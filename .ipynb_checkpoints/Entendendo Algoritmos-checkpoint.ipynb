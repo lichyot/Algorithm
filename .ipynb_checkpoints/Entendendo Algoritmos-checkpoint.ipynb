{
 "cells": [
  {
   "cell_type": "markdown",
   "metadata": {},
   "source": [
    "# Entendendo algoritmos\n",
    "\n",
    "## Aditya Y. Bhargava"
   ]
  },
  {
   "cell_type": "markdown",
   "metadata": {},
   "source": [
    "### Pesquisa Binária"
   ]
  },
  {
   "cell_type": "code",
   "execution_count": null,
   "metadata": {},
   "outputs": [],
   "source": [
    "arr = [0, 2, 4, 5, 7, 8]\n",
    "\n",
    "def pesquisa_binaria(lista, item):\n",
    "    baixo = 0\n",
    "    alto = len(lista) - 1\n",
    "    \n",
    "    while baixo <= alto:\n",
    "        meio  = int((baixo + alto) / 2)\n",
    "        chute = lista[meio]\n",
    "        \n",
    "        if chute == item:\n",
    "            return meio\n",
    "        elif chute > item:\n",
    "            alto = meio - 1\n",
    "        else:\n",
    "            baixo = meio + 1\n",
    "    return None\n",
    "\n",
    "print(pesquisa_binaria(arr, 4))"
   ]
  },
  {
   "cell_type": "markdown",
   "metadata": {},
   "source": [
    "### Recursividade\n",
    "\n",
    "#### Encontra o menor número da coleção"
   ]
  },
  {
   "cell_type": "code",
   "execution_count": null,
   "metadata": {},
   "outputs": [],
   "source": [
    " def busca_menor(arr):\n",
    "    menor = arr[0]\n",
    "    menor_indice = 0\n",
    "\n",
    "    for i in range(1, len(arr)):\n",
    "        if arr[i] < menor:\n",
    "            menor = arr[i]\n",
    "            menor_indice = i\n",
    "    return menor_indice\n",
    "\n",
    " def ordenacao_por_selecao(arr):\n",
    "    novoArr = []                                                                                     \n",
    "\n",
    "    for i in range(len(arr)):\n",
    "        menor = busca_menor(arr)\n",
    "        novoArr.append(arr.pop(menor))\n",
    "    return novoArr\n",
    " \n",
    "print (ordenacao_por_selecao([5, 3, 6, 2, 10, 1, 7]))"
   ]
  },
  {
   "cell_type": "markdown",
   "metadata": {},
   "source": [
    "#### Soma os  números da coleção"
   ]
  },
  {
   "cell_type": "code",
   "execution_count": 2,
   "metadata": {},
   "outputs": [
    {
     "name": "stdout",
     "output_type": "stream",
     "text": [
      "12\n"
     ]
    }
   ],
   "source": [
    "arr = [2, 4, 6]\n",
    "\n",
    "def soma(lista):\n",
    "    if lista == []:\n",
    "        return 0\n",
    "    return lista[0] + soma(lista[1:])\n",
    "\n",
    "print(soma(arr))\n",
    "\n"
   ]
  },
  {
   "cell_type": "markdown",
   "metadata": {},
   "source": [
    "#### Conta os números da coleção"
   ]
  },
  {
   "cell_type": "code",
   "execution_count": 1,
   "metadata": {},
   "outputs": [
    {
     "name": "stdout",
     "output_type": "stream",
     "text": [
      "3\n"
     ]
    }
   ],
   "source": [
    "arr = [2, 4, 6]\n",
    "\n",
    "def conta(lista):\n",
    "    if lista == []:\n",
    "        return 0\n",
    "    return 1 + conta(lista[1:])\n",
    "\n",
    "print(conta(arr))"
   ]
  },
  {
   "cell_type": "markdown",
   "metadata": {},
   "source": [
    "#### Encontra o maior número da coleção"
   ]
  },
  {
   "cell_type": "code",
   "execution_count": 3,
   "metadata": {
    "scrolled": true
   },
   "outputs": [
    {
     "name": "stdout",
     "output_type": "stream",
     "text": [
      "6\n"
     ]
    }
   ],
   "source": [
    "arr = [2, 4, 6]\n",
    "\n",
    "def maior(lista):\n",
    "    if lista == []:\n",
    "        return \"Lista vazia\"\n",
    "    elif len(lista) == 1:\n",
    "        return lista\n",
    "    elif len(lista) == 2:\n",
    "        return lista[0] if lista[0] > lista[1] else lista[1]\n",
    "    \n",
    "    maior_valor = maior(lista[1:])\n",
    "    \n",
    "    return lista[0] if lista[0] > maior_valor else maior_valor\n",
    "\n",
    "print(maior(arr))"
   ]
  },
  {
   "cell_type": "markdown",
   "metadata": {},
   "source": [
    "### Implementando o algoritmo [Quicksort]"
   ]
  },
  {
   "cell_type": "code",
   "execution_count": 4,
   "metadata": {},
   "outputs": [
    {
     "name": "stdout",
     "output_type": "stream",
     "text": [
      "[0, 1, 2, 3, 4, 5, 10]\n"
     ]
    }
   ],
   "source": [
    "arr = [10, 5, 2, 3, 0, 1, 4]\n",
    "\n",
    "def quicksort(lista):\n",
    "    \n",
    "    if len(lista) < 2:\n",
    "        return lista\n",
    "    else:\n",
    "        pivo = lista[0]\n",
    "        menores = [i for i in lista[1:] if i <= pivo]\n",
    "        maiores = [i for i in lista[1:] if i > pivo]\n",
    "        return quicksort(menores) + [pivo] + quicksort(maiores)\n",
    "\n",
    "print(quicksort(arr))"
   ]
  },
  {
   "cell_type": "markdown",
   "metadata": {},
   "source": [
    "### Tabela Hash"
   ]
  },
  {
   "cell_type": "code",
   "execution_count": 5,
   "metadata": {},
   "outputs": [
    {
     "name": "stdout",
     "output_type": "stream",
     "text": [
      "{'maçã': 0.67, 'leite': 1.49, 'abacate': 1.49}\n"
     ]
    }
   ],
   "source": [
    "caderno = dict()\n",
    "\n",
    "caderno[\"maçã\"]    = 0.67\n",
    "caderno[\"leite\"]   = 1.49\n",
    "caderno[\"abacate\"] = 1.49\n",
    "\n",
    "print(caderno)"
   ]
  },
  {
   "cell_type": "code",
   "execution_count": 6,
   "metadata": {},
   "outputs": [
    {
     "name": "stdout",
     "output_type": "stream",
     "text": [
      "8675309\n"
     ]
    }
   ],
   "source": [
    "lista_telefonica = dict()\n",
    "\n",
    "lista_telefonica[\"jenny\"]     = 8675309\n",
    "lista_telefonica[\"emergency\"] = 911\n",
    "\n",
    "print(lista_telefonica[\"jenny\"])"
   ]
  },
  {
   "cell_type": "code",
   "execution_count": 3,
   "metadata": {},
   "outputs": [
    {
     "name": "stdout",
     "output_type": "stream",
     "text": [
      "Deixe votar!\n",
      "Deixe votar!\n",
      "Mande embora!\n",
      "Deixe votar!\n"
     ]
    }
   ],
   "source": [
    "# Formas de criar uma tabela Hash\n",
    "\n",
    "# voted = dict()\n",
    "voted = {}\n",
    "\n",
    "def verifica_eleitor(nome):\n",
    "    if voted.get(nome):\n",
    "        print(\"Mande embora!\")\n",
    "    else:\n",
    "        voted[nome] = True\n",
    "        print(\"Deixe votar!\")\n",
    "        \n",
    "verifica_eleitor(\"tom\")\n",
    "verifica_eleitor(\"mike\")\n",
    "verifica_eleitor(\"mike\")\n",
    "verifica_eleitor('Otto')"
   ]
  },
  {
   "cell_type": "code",
   "execution_count": 6,
   "metadata": {},
   "outputs": [
    {
     "name": "stdout",
     "output_type": "stream",
     "text": [
      "{'O': 2, 'T': 2}\n",
      "\n",
      "{'F': 1, 'Á': 1, 'T': 1, 'I': 1, 'M': 1, 'A': 1}\n"
     ]
    }
   ],
   "source": [
    "# Contando de caracteres\n",
    "def contador_caracteres(s):\n",
    "    resultado = {}\n",
    "    for caracter in s:\n",
    "        resultado[caracter] = resultado.get(caracter, 0) + 1\n",
    "    return resultado\n",
    "\n",
    "print(contador_caracteres('OTTO'))\n",
    "print()\n",
    "print(contador_caracteres('FÁTIMA'))"
   ]
  },
  {
   "cell_type": "code",
   "execution_count": 8,
   "metadata": {},
   "outputs": [
    {
     "ename": "SyntaxError",
     "evalue": "invalid syntax (<ipython-input-8-e0876ae8582b>, line 4)",
     "output_type": "error",
     "traceback": [
      "\u001b[0;36m  File \u001b[0;32m\"<ipython-input-8-e0876ae8582b>\"\u001b[0;36m, line \u001b[0;32m4\u001b[0m\n\u001b[0;31m    return contador_caracteres[s] = resultado.get(contador_caracteres, 0) + 1\u001b[0m\n\u001b[0m                                  ^\u001b[0m\n\u001b[0;31mSyntaxError\u001b[0m\u001b[0;31m:\u001b[0m invalid syntax\n"
     ]
    }
   ],
   "source": [
    "# Contador de caracteres: Recursivo\n",
    "def contador_caracteres(s):\n",
    "    resultado = {}\n",
    "    contador_caracteres[s] = resultado.get(contador_caracteres, 0) + 1\n",
    "    return contador_caracteres\n",
    "print(contador_caracteres('OTTO'))"
   ]
  },
  {
   "cell_type": "markdown",
   "metadata": {},
   "source": [
    "# Grafos\n",
    "## Duas perguntas são respondidas com a [Pesquisa em Largura] \n",
    "\n",
    "### 1° Existe um caminho do vértice A até o vertice B? | 2° Qual o caminho mínimo do vertice A até o vértice B?"
   ]
  },
  {
   "cell_type": "code",
   "execution_count": null,
   "metadata": {},
   "outputs": [],
   "source": [
    "# This Python file uses the following encoding: utf-8\n",
    "# import os, sys\n",
    "\n",
    "from collections import deque\n",
    "\n",
    "def pessoa_e_vendedor(nome):\n",
    "    return nome[-1] == \"m\"\n",
    "\n",
    "grafo = {}\n",
    "grafo[\"voce\"]   = [\"alice\", \"bob\", \"claire\"]\n",
    "grafo[\"bob\"]    = [\"anuj\", \"peggy\"]\n",
    "grafo[\"claire\"] = [\"thom\", \"jonny\"]\n",
    "grafo[\"alice\"]  = [\"peggy\"]\n",
    "grafo[\"anuj\"]   = []\n",
    "grafo[\"peggy\"]  = []\n",
    "grafo[\"thom\"]   = []\n",
    "grafo[\"jonny\"]  = []\n",
    "\n",
    "def pesquisa(nome):\n",
    "    \n",
    "    # Enqueue = Enfileirar | Dequeue = Desenfileirar\n",
    "    fila_de_pesquisa = deque() # Fila: First In, First Out = FIFO\n",
    "    fila_de_pesquisa += grafo[nome]\n",
    "    verificadas = [] # Existe para armazenar as pessoas que já foram verificadas para não ter um loop infinito\n",
    "\n",
    "    while fila_de_pesquisa:\n",
    "        pessoa = fila_de_pesquisa.popleft()\n",
    "        if not pessoa in verificadas:\n",
    "            if pessoa_e_vendedor(pessoa):\n",
    "                print (pessoa.title() + \" é um vendedor de manga!\")\n",
    "                return True\n",
    "            else:\n",
    "                fila_de_pesquisa += grafo[pessoa]\n",
    "                verificadas.append(pessoa)\n",
    "    return False\n",
    "\n",
    "pesquisa(\"voce\")"
   ]
  },
  {
   "cell_type": "code",
   "execution_count": null,
   "metadata": {},
   "outputs": [],
   "source": []
  }
 ],
 "metadata": {
  "kernelspec": {
   "display_name": "Python 3",
   "language": "python",
   "name": "python3"
  },
  "language_info": {
   "codemirror_mode": {
    "name": "ipython",
    "version": 3
   },
   "file_extension": ".py",
   "mimetype": "text/x-python",
   "name": "python",
   "nbconvert_exporter": "python",
   "pygments_lexer": "ipython3",
   "version": "3.6.5"
  }
 },
 "nbformat": 4,
 "nbformat_minor": 2
}
